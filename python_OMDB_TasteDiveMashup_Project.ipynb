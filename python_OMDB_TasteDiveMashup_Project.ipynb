{
 "cells": [
  {
   "cell_type": "markdown",
   "metadata": {},
   "source": [
    "### Coursera : Description: Final Project for Course 3 - OMDB and TasteDive Mashup"
   ]
  },
  {
   "cell_type": "code",
   "execution_count": null,
   "metadata": {},
   "outputs": [],
   "source": [
    "import requests_with_caching\n",
    "\n",
    "def get_movies_from_tastedive(name_artist):\n",
    "    base_url = \"https://tastedive.com/api/similar\"\n",
    "    params_diction = {} # Set up an empty dictionary for query parameters\n",
    "    params_diction[\"q\"] = name_artist\n",
    "    params_diction[\"type\"] = \"movies\"\n",
    "    params_diction[\"limit\"] = \"5\" \n",
    "    # , permanent_cache_file=\"this_page_cache.txt\"\n",
    "    res = requests_with_caching.get(base_url, params=params_diction)\n",
    "    #print(res.url)\n",
    "    res_dict = res.json()\n",
    "    return res_dict\n",
    "\n",
    "def extract_movie_titles(d):\n",
    "    titles = [d[\"Name\"] for d in d[\"Similar\"][\"Results\"]]\n",
    "    #print(titles)\n",
    "    return titles\n",
    "\n",
    "def get_related_titles(titles):\n",
    "    related_titles = []\n",
    "    f_r_titles = []\n",
    "    for t in titles:\n",
    "        new_titles = extract_movie_titles(get_movies_from_tastedive(t))\n",
    "        for nt in new_titles:\n",
    "            if nt not in related_titles:\n",
    "                related_titles.append(nt)\n",
    "    return related_titles\n",
    "\n",
    "\n",
    "def get_movie_data(title):\n",
    "    base_url = \"http://www.omdbapi.com/\"\n",
    "    pd = {}\n",
    "    pd[\"t\"] = title\n",
    "    pd[\"r\"] = \"json\"\n",
    "    \n",
    "    res = requests_with_caching.get(base_url, params=pd)\n",
    "    obj = res.json()\n",
    "    return obj\n",
    "\n",
    "def get_movie_rating(omdbd):\n",
    "    ratings_d = omdbd['Ratings']\n",
    "    rating_val = 0 \n",
    "    for r in ratings_d:\n",
    "        if r[\"Source\"] == \"Rotten Tomatoes\":\n",
    "            rating_val = int(r['Value'].replace('%',''))\n",
    "     \n",
    "    return rating_val\n",
    "\n",
    "def get_rating_by_title(title):\n",
    "    return get_movie_rating(get_movie_data(title))\n",
    "\n",
    "def get_sorted_recommendations(mv_titles_list):\n",
    "    rt_with_rating = {}\n",
    "    related_titles = get_related_titles(mv_titles_list)\n",
    "\n",
    "    for rt in related_titles:\n",
    "        rt_with_rating[rt] = get_rating_by_title(rt)\n",
    "    print(rt_with_rating.items())\n",
    "    sorted_ritems = sorted(rt_with_rating.items(), key=lambda kv:(kv[1],kv[0]), reverse=True)\n",
    "    result_list = [i[0] for i in sorted_ritems]    \n",
    "    print(result_list)\n",
    "    return result_list"
   ]
  }
 ],
 "metadata": {
  "kernelspec": {
   "display_name": "Python 3",
   "language": "python",
   "name": "python3"
  },
  "language_info": {
   "codemirror_mode": {
    "name": "ipython",
    "version": 3
   },
   "file_extension": ".py",
   "mimetype": "text/x-python",
   "name": "python",
   "nbconvert_exporter": "python",
   "pygments_lexer": "ipython3",
   "version": "3.7.3"
  }
 },
 "nbformat": 4,
 "nbformat_minor": 2
}
