{
 "cells": [
  {
   "cell_type": "markdown",
   "metadata": {},
   "source": [
    "### Classes and Inheritance"
   ]
  },
  {
   "cell_type": "code",
   "execution_count": 1,
   "metadata": {},
   "outputs": [
    {
     "name": "stdout",
     "output_type": "stream",
     "text": [
      "Class Person\n",
      "John Doe\n",
      "Class Student\n",
      "Welcome Mike Olsen to the class of 2019\n"
     ]
    }
   ],
   "source": [
    "class Person:\n",
    "  def __init__(self, fname, lname):\n",
    "    self.firstname = fname\n",
    "    self.lastname = lname\n",
    "\n",
    "  def printname(self):\n",
    "    print(self.firstname, self.lastname)\n",
    "\n",
    "print(\"Class Person\")\n",
    "x = Person(\"John\", \"Doe\")\n",
    "x.printname()\n",
    "\n",
    "class Representative(Person):\n",
    "  pass\n",
    "\n",
    "class Student(Person):\n",
    "  def __init__(self, fname, lname, year):\n",
    "    super().__init__(fname, lname)\n",
    "    self.graduationyear = year\n",
    "\n",
    "  def welcome(self):\n",
    "    print(\"Welcome\", self.firstname, self.lastname, \"to the class of\", self.graduationyear)\n",
    "\n",
    "print(\"Class Student\")\n",
    "x = Student(\"Mike\", \"Olsen\", 2019)\n",
    "x.welcome()"
   ]
  },
  {
   "cell_type": "markdown",
   "metadata": {},
   "source": [
    "### Using __str__ method"
   ]
  },
  {
   "cell_type": "code",
   "execution_count": 4,
   "metadata": {},
   "outputs": [
    {
     "name": "stdout",
     "output_type": "stream",
     "text": [
      "New Book\n",
      "AR\n"
     ]
    }
   ],
   "source": [
    "class MyBook():\n",
    "    def __init__(self, title, author):\n",
    "        self.title = title\n",
    "        self.author = author\n",
    "        \n",
    "    def __str__(self):\n",
    "        print(\"Author: {0}, Title: {1}.\".format(self.author, self.title))\n",
    "\n",
    "b = MyBook(\"New Book\", \"AR\")\n",
    "\n",
    "print(b.title)\n",
    "print(b.author)"
   ]
  },
  {
   "cell_type": "markdown",
   "metadata": {},
   "source": [
    "### Overwrite __add__ , __sub__"
   ]
  },
  {
   "cell_type": "code",
   "execution_count": 15,
   "metadata": {},
   "outputs": [
    {
     "name": "stdout",
     "output_type": "stream",
     "text": [
      "Total savings are 100 \n",
      "Total savings are 150 \n"
     ]
    }
   ],
   "source": [
    "class Savings:\n",
    "    def __init__(self, n, amnt):\n",
    "        self.name = n\n",
    "        self.amount = amnt\n",
    "        \n",
    "    def __add__(self, amnt):\n",
    "        \n",
    "        if self.name == amnt.name:\n",
    "            return Savings(self.name, self.amount+amnt.amount)\n",
    "        else :\n",
    "            return self\n",
    "        \n",
    "    def __str__(self):      \n",
    "        return \"Total savings are {} \".format(self.amount)\n",
    "    \n",
    "    def sort_by(self):\n",
    "        return self.amount\n",
    "\n",
    "mySavings = Savings(\"Abdul\", 100)\n",
    "newSavings = Savings(\"Abdul\" , 50)\n",
    "print(mySavings)\n",
    "print(mySavings+newSavings)"
   ]
  },
  {
   "cell_type": "markdown",
   "metadata": {},
   "source": [
    "### sorting class instances"
   ]
  },
  {
   "cell_type": "code",
   "execution_count": 25,
   "metadata": {},
   "outputs": [
    {
     "name": "stdout",
     "output_type": "stream",
     "text": [
      "Before Sort\n",
      "Total savings are 300 \n",
      "Total savings are 400 \n",
      "Total savings are 100 \n",
      "\n",
      "========\n",
      "After Sort\n",
      "Total savings are 100 \n",
      "Total savings are 300 \n",
      "Total savings are 400 \n",
      "\n",
      "========\n",
      "Another way to sort\n",
      "Total savings are 100 \n",
      "Total savings are 300 \n",
      "Total savings are 400 \n"
     ]
    }
   ],
   "source": [
    "def p_savings(l):\n",
    "    for ts in l:\n",
    "        print(ts)\n",
    "\n",
    "team_savings = [\n",
    "    Savings(\"John\", 300),\n",
    "    Savings(\"Rahul\", 400),\n",
    "    Savings(\"Abdul\", 100)\n",
    "]\n",
    "\n",
    "print(\"Before Sort\")\n",
    "p_savings(team_savings)\n",
    "print(\"\")  \n",
    "print(\"========\")\n",
    "print(\"After Sort\")\n",
    "team_s_inorder = sorted(team_savings, key = Savings.sort_by)\n",
    "p_savings(team_s_inorder)\n",
    "\n",
    "\n",
    "print(\"\")    \n",
    "print(\"========\")\n",
    "print(\"Another way to sort\")\n",
    "ts2_inorder = sorted(team_savings, key=lambda k:k.sort_by())\n",
    "p_savings(ts2_inorder)"
   ]
  }
 ],
 "metadata": {
  "kernelspec": {
   "display_name": "Python 3",
   "language": "python",
   "name": "python3"
  },
  "language_info": {
   "codemirror_mode": {
    "name": "ipython",
    "version": 3
   },
   "file_extension": ".py",
   "mimetype": "text/x-python",
   "name": "python",
   "nbconvert_exporter": "python",
   "pygments_lexer": "ipython3",
   "version": "3.7.3"
  }
 },
 "nbformat": 4,
 "nbformat_minor": 2
}
