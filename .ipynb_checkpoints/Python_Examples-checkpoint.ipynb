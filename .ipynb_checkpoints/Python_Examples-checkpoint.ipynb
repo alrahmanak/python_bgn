{
 "cells": [
  {
   "cell_type": "code",
   "execution_count": 29,
   "metadata": {},
   "outputs": [
    {
     "name": "stdout",
     "output_type": "stream",
     "text": [
      "two one\n"
     ]
    }
   ],
   "source": [
    "print('{1} {0}'.format('one', 'two'))"
   ]
  },
  {
   "cell_type": "code",
   "execution_count": 30,
   "metadata": {},
   "outputs": [
    {
     "name": "stdout",
     "output_type": "stream",
     "text": [
      "      test\n"
     ]
    }
   ],
   "source": [
    "print('{:>10}'.format('test'))"
   ]
  },
  {
   "cell_type": "code",
   "execution_count": 31,
   "metadata": {},
   "outputs": [
    {
     "name": "stdout",
     "output_type": "stream",
     "text": [
      "test______\n"
     ]
    }
   ],
   "source": [
    "print('{:_<10}'.format('test'))"
   ]
  },
  {
   "cell_type": "code",
   "execution_count": 26,
   "metadata": {},
   "outputs": [
    {
     "name": "stdout",
     "output_type": "stream",
     "text": [
      "14\n"
     ]
    }
   ],
   "source": [
    "music = \"Pull out your music and dancing can begin\"\n",
    "\n",
    "\n",
    "print(music.index(\"m\"))"
   ]
  },
  {
   "cell_type": "code",
   "execution_count": 27,
   "metadata": {},
   "outputs": [
    {
     "name": "stdout",
     "output_type": "stream",
     "text": [
      "0\n",
      "3\n",
      "0\n",
      "2\n"
     ]
    }
   ],
   "source": [
    "z = ['atoms', 4, 'neutron', 6, 'proton', 4, 'electron', 4, 'electron', 'atoms']\n",
    "print(z.count(\"4\"))\n",
    "print(z.count(4))\n",
    "print(z.count(\"a\"))\n",
    "print(z.count(\"electron\"))\n"
   ]
  },
  {
   "cell_type": "markdown",
   "metadata": {},
   "source": [
    "### Ex. Split, Define Empty List, For, Accumulation"
   ]
  },
  {
   "cell_type": "code",
   "execution_count": 6,
   "metadata": {},
   "outputs": [
    {
     "name": "stdout",
     "output_type": "stream",
     "text": [
      "['one', 'two', 'three', 'four', 'five', 'six']\n",
      "[3, 3, 5, 4, 4, 3]\n"
     ]
    }
   ],
   "source": [
    "new_str = \"one two three four five six\"\n",
    "str_lst = new_str.split()\n",
    "print(str_lst)\n",
    "n_list = [None] * len(str_lst)\n",
    "i=0\n",
    "for k in str_lst:\n",
    "    n_list[i] = len(k)\n",
    "    i += 1\n",
    "print(n_list)\n",
    "    "
   ]
  },
  {
   "cell_type": "markdown",
   "metadata": {},
   "source": [
    "### Ex. list Sort  / Sorted "
   ]
  },
  {
   "cell_type": "code",
   "execution_count": 18,
   "metadata": {},
   "outputs": [
    {
     "name": "stdout",
     "output_type": "stream",
     "text": [
      "['Youyou Tu', 'Rainer Weiss', 'Malala Yousafzai', 'Kazuo Ishiguro', 'Alvin E. Roth', 'Alice Munro']\n"
     ]
    }
   ],
   "source": [
    "winners = ['Alice Munro', 'Alvin E. Roth', 'Kazuo Ishiguro', 'Malala Yousafzai', 'Rainer Weiss', 'Youyou Tu']\n",
    "#winners.sort(reverse=True)\n",
    "#z_winners = sorted(winners,reverse=True)\n",
    "winners.reverse()\n",
    "z_winners = winners\n",
    "print(z_winners)"
   ]
  },
  {
   "cell_type": "markdown",
   "metadata": {},
   "source": [
    "### Ex. PDF Template based report using jinja2"
   ]
  },
  {
   "cell_type": "code",
   "execution_count": 8,
   "metadata": {},
   "outputs": [
    {
     "name": "stdout",
     "output_type": "stream",
     "text": [
      "Your name is: Mark\n"
     ]
    }
   ],
   "source": [
    "import jinja2\n",
    "\n",
    "templateLoader = jinja2.FileSystemLoader(searchpath=\"./\")\n",
    "templateEnv = jinja2.Environment(loader=templateLoader)\n",
    "TEMPLATE_FILE = \"pdf_temp1.txt\"\n",
    "template = templateEnv.get_template(TEMPLATE_FILE)\n",
    "outputText = template.render(name='Mark')\n",
    "print(outputText)"
   ]
  },
  {
   "cell_type": "code",
   "execution_count": 20,
   "metadata": {},
   "outputs": [
    {
     "name": "stdout",
     "output_type": "stream",
     "text": [
      "t\n",
      "e\n",
      "m\n",
      "e\n",
      "l\n",
      "t\n",
      "e\n",
      "e\n",
      "h\n"
     ]
    }
   ],
   "source": [
    "words = [\"adopt\", \"bake\", \"beam\", \"confide\", \"grill\", \"plant\", \"time\", \"wave\", \"wish\"]\n",
    "past_tense = []\n",
    "for word in words:\n",
    "    print(word[len(word)-1])"
   ]
  },
  {
   "cell_type": "code",
   "execution_count": 21,
   "metadata": {},
   "outputs": [
    {
     "name": "stdout",
     "output_type": "stream",
     "text": [
      "4\n"
     ]
    }
   ],
   "source": [
    "items = [\"whirring\", \"wow!\", \"calendar\", \"wry\", \"glass\", \"\", \"llama\",\"tumultuous\",\"owing\"]\n",
    "acc_num = 0\n",
    "for item in items:\n",
    "    if \"w\" in item:\n",
    "        acc_num += 1\n",
    "print(acc_num)"
   ]
  },
  {
   "cell_type": "markdown",
   "metadata": {},
   "source": [
    "The variable sentence stores a string. Write code to determine how many words in sentence start and end with the same letter, including one-letter words. Store the result in the variable same_letter_count.\n",
    "\n",
    "Hard-coded answers will receive no credit."
   ]
  },
  {
   "cell_type": "code",
   "execution_count": 23,
   "metadata": {},
   "outputs": [
    {
     "name": "stdout",
     "output_type": "stream",
     "text": [
      "['students', 'flock', 'to', 'the', 'arb', 'for', 'a', 'variety', 'of', 'outdoor', 'activities', 'such', 'as', 'jogging', 'and', 'picnicking']\n",
      "more than a letter word:  students\n",
      "word not counted:  flock\n",
      "word not counted:  to\n",
      "word not counted:  the\n",
      "word not counted:  arb\n",
      "word not counted:  for\n",
      "one letter word:  a\n",
      "word not counted:  variety\n",
      "word not counted:  of\n",
      "word not counted:  outdoor\n",
      "word not counted:  activities\n",
      "word not counted:  such\n",
      "word not counted:  as\n",
      "word not counted:  jogging\n",
      "word not counted:  and\n",
      "word not counted:  picnicking\n",
      "2\n"
     ]
    }
   ],
   "source": [
    "sentence = \"students flock to the arb for a variety of outdoor activities such as jogging and picnicking\"\n",
    "\n",
    "\n",
    "same_letter_count = 0\n",
    "words = sentence.split()\n",
    "print(words)\n",
    "for word in words:\n",
    "    if len(word) == 1:\n",
    "        same_letter_count += 1\n",
    "        print(\"one letter word: \", word)\n",
    "    elif word[0] == word[len(word)-1]:\n",
    "        same_letter_count += 1\n",
    "        print(\"more than a letter word: \", word)\n",
    "    else:\n",
    "        print(\"word not counted: \", word)\n",
    "print(same_letter_count)"
   ]
  },
  {
   "cell_type": "code",
   "execution_count": 25,
   "metadata": {},
   "outputs": [
    {
     "name": "stdout",
     "output_type": "stream",
     "text": [
      "python\n",
      "is\n",
      "a\n",
      " counting : a\n",
      "high\n",
      "level\n",
      " counting : level\n",
      "general\n",
      " counting : general\n",
      "purpose\n",
      " counting : purpose\n",
      "programming\n",
      " counting : programming\n",
      "language\n",
      " counting : language\n",
      "that\n",
      " counting : that\n",
      "can\n",
      " counting : can\n",
      "be\n",
      " counting : be\n",
      "applied\n",
      " counting : applied\n",
      "to\n",
      "many\n",
      " counting : many\n",
      "different\n",
      " counting : different\n",
      "classes\n",
      " counting : classes\n",
      "of\n",
      "problems.\n",
      " counting : problems.\n",
      "14\n"
     ]
    }
   ],
   "source": [
    "sentence = \"python is a high level general purpose programming language that can be applied to many different classes of problems.\"\n",
    "num_a_or_e = 0\n",
    "words = sentence.split()\n",
    "for word in words:\n",
    "    print(word)\n",
    "    if \"a\" in word:\n",
    "        print(\" counting :\", word)\n",
    "        num_a_or_e += 1\n",
    "    elif \"e\" in word:\n",
    "        print(\" counting :\", word)\n",
    "        num_a_or_e += 1\n",
    "print(  num_a_or_e)  "
   ]
  },
  {
   "cell_type": "markdown",
   "metadata": {},
   "source": [
    "### words in a list, split, not in"
   ]
  },
  {
   "cell_type": "code",
   "execution_count": 28,
   "metadata": {},
   "outputs": [
    {
     "name": "stdout",
     "output_type": "stream",
     "text": [
      "organization\n",
      "health,\n",
      "safety,\n",
      "education\n",
      "OHSE\n"
     ]
    }
   ],
   "source": [
    "stopwords = ['to', 'a', 'for', 'by', 'an', 'am', 'the', 'so', 'it', 'and', \"The\"]\n",
    "org = \"The organization for health, safety, and education\"\n",
    "org_list = org.split()\n",
    "acro = \"\"\n",
    "for org_item in org_list:\n",
    "    if org_item not in stopwords:\n",
    "        print(org_item)\n",
    "        acro = acro + org_item[0].upper()\n",
    "print(acro)  "
   ]
  },
  {
   "cell_type": "markdown",
   "metadata": {},
   "source": [
    "### Writing to file"
   ]
  },
  {
   "cell_type": "code",
   "execution_count": 32,
   "metadata": {},
   "outputs": [
    {
     "name": "stdout",
     "output_type": "stream",
     "text": [
      "1\n",
      "4\n",
      "9\n",
      "16\n",
      "2\n"
     ]
    }
   ],
   "source": [
    "filename = \"squared_numbers.txt\"\n",
    "outfile = open(filename, \"w\")\n",
    "\n",
    "for number in range(1, 13):\n",
    "    square = number * number\n",
    "    outfile.write(str(square) + \"\\n\")\n",
    "\n",
    "outfile.close()\n",
    "\n",
    "infile = open(filename, \"r\")\n",
    "print(infile.read()[:10])\n",
    "infile.close()"
   ]
  },
  {
   "cell_type": "markdown",
   "metadata": {},
   "source": [
    "### Reading a file using with"
   ]
  },
  {
   "cell_type": "code",
   "execution_count": 34,
   "metadata": {},
   "outputs": [
    {
     "name": "stdout",
     "output_type": "stream",
     "text": [
      "1\n",
      "4\n",
      "9\n",
      "16\n",
      "25\n",
      "36\n",
      "49\n",
      "64\n",
      "81\n",
      "100\n",
      "121\n",
      "144\n"
     ]
    }
   ],
   "source": [
    "with open(filename, 'r') as md:\n",
    "    for line in md:\n",
    "        print(line.strip())"
   ]
  },
  {
   "cell_type": "markdown",
   "metadata": {},
   "source": [
    "### Dictionary"
   ]
  },
  {
   "cell_type": "code",
   "execution_count": 1,
   "metadata": {},
   "outputs": [
    {
     "name": "stdout",
     "output_type": "stream",
     "text": [
      "{'three': 'tres', 'one': 'uno', 'two': 'dos'}\n"
     ]
    }
   ],
   "source": [
    "eng2sp = {'three': 'tres', 'one': 'uno', 'two': 'dos'}\n",
    "print(eng2sp)"
   ]
  },
  {
   "cell_type": "markdown",
   "metadata": {},
   "source": [
    "### Dictionary - del, keys, items, values, list, in, not in, get"
   ]
  },
  {
   "cell_type": "code",
   "execution_count": 5,
   "metadata": {},
   "outputs": [
    {
     "name": "stdout",
     "output_type": "stream",
     "text": [
      "Got key apples which maps to value 430\n",
      "Got key bananas which maps to value 312\n",
      "Got key oranges which maps to value 525\n",
      "Got key pears which maps to value 217\n",
      "['apples', 'bananas', 'oranges']\n",
      "[430, 312, 525]\n",
      "[('apples', 430), ('bananas', 312), ('oranges', 525)]\n",
      "Got apples that maps to 430\n",
      "Got bananas that maps to 312\n",
      "Got oranges that maps to 525\n",
      "True\n"
     ]
    }
   ],
   "source": [
    "inventory = {'apples': 430, 'bananas': 312, 'oranges': 525, 'pears': 217}\n",
    "\n",
    "for akey in inventory.keys():     # the order in which we get the keys is not defined\n",
    "    print(\"Got key\", akey, \"which maps to value\", inventory[akey])\n",
    "    \n",
    "del inventory['pears']\n",
    "    \n",
    "ks = list(inventory.keys())\n",
    "print(ks)\n",
    "\n",
    "print(list(inventory.values()))\n",
    "print(list(inventory.items()))\n",
    "\n",
    "for k in inventory:\n",
    "    print(\"Got\",k,\"that maps to\",inventory[k])\n",
    "    \n",
    "print('apples' in inventory)\n",
    "\n",
    "print(inventory.get(\"cherries\",0))"
   ]
  }
 ],
 "metadata": {
  "kernelspec": {
   "display_name": "Python 3",
   "language": "python",
   "name": "python3"
  },
  "language_info": {
   "codemirror_mode": {
    "name": "ipython",
    "version": 3
   },
   "file_extension": ".py",
   "mimetype": "text/x-python",
   "name": "python",
   "nbconvert_exporter": "python",
   "pygments_lexer": "ipython3",
   "version": "3.8.2"
  }
 },
 "nbformat": 4,
 "nbformat_minor": 4
}
