{
 "cells": [
  {
   "cell_type": "code",
<<<<<<< HEAD
   "execution_count": 3,
=======
   "execution_count": 2,
>>>>>>> 169aeb57070926219838269e208d58e925f34dd4
   "metadata": {},
   "outputs": [
    {
     "name": "stdout",
     "output_type": "stream",
     "text": [
<<<<<<< HEAD
      "1250\n"
=======
      "125\n"
>>>>>>> 169aeb57070926219838269e208d58e925f34dd4
     ]
    }
   ],
   "source": [
    "# Python mathematical operations for beginners\n",
    "a = 5\n",
<<<<<<< HEAD
    "b = 250\n",
=======
    "b = 25\n",
>>>>>>> 169aeb57070926219838269e208d58e925f34dd4
    "l = 10.1\n",
    "\n",
    "print(a*b)"
   ]
  },
  {
   "cell_type": "code",
<<<<<<< HEAD
   "execution_count": 4,
=======
   "execution_count": 3,
>>>>>>> 169aeb57070926219838269e208d58e925f34dd4
   "metadata": {},
   "outputs": [
    {
     "name": "stdout",
     "output_type": "stream",
     "text": [
      "0.863120568566631\n"
     ]
    }
   ],
   "source": [
    "# log operator\n",
    "import numpy as np\n",
    "print (-((4/14)*np.log2(4/14) + (10/14)*np.log2(10/14)))"
   ]
  },
  {
   "cell_type": "code",
<<<<<<< HEAD
   "execution_count": 5,
=======
   "execution_count": 4,
>>>>>>> 169aeb57070926219838269e208d58e925f34dd4
   "metadata": {},
   "outputs": [
    {
     "name": "stdout",
     "output_type": "stream",
     "text": [
      "16.0\n"
     ]
    }
   ],
   "source": [
    "# divide\n",
    "m = 80\n",
    "n = 5\n",
    "\n",
    "print(m / n)"
   ]
  }
 ],
 "metadata": {
  "kernelspec": {
   "display_name": "Python 3",
   "language": "python",
   "name": "python3"
  },
  "language_info": {
   "codemirror_mode": {
    "name": "ipython",
    "version": 3
   },
   "file_extension": ".py",
   "mimetype": "text/x-python",
   "name": "python",
   "nbconvert_exporter": "python",
   "pygments_lexer": "ipython3",
   "version": "3.7.3"
  }
 },
 "nbformat": 4,
 "nbformat_minor": 2
}
