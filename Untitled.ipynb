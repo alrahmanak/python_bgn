{
 "cells": [
  {
   "cell_type": "code",
   "execution_count": 4,
   "metadata": {},
   "outputs": [],
   "source": [
    "class Character():\n",
    "    def __init__(self, name, height, alignment, level = 1, health = 50):\n",
    "        self.name = name\n",
    "        self.height = height\n",
    "        self.alignment = alignment\n",
    "        self.level = level\n",
    "        self.health = health\n",
    "\n",
    "    def init_skills(self, strength, dext, intel, wisdom, charm):\n",
    "        self.strength = strength,\n",
    "        self.dexterity = dext\n",
    "        self.intelligence = intel\n",
    "        self.wisdom = wisdom\n",
    "        self.charm = charm\n",
    "\n",
    "    def backstory(self, history):\n",
    "        try:\n",
    "            if self.backstory[-1] != \" \":\n",
    "                self.backstory = self.backstory + \" \" + history\n",
    "            else:\n",
    "                self.backstory += history\n",
    "        except:\n",
    "            self.backstory = history\n"
   ]
  },
  {
   "cell_type": "code",
   "execution_count": 3,
   "metadata": {},
   "outputs": [],
   "source": [
    "class Magic(Character):\n",
    "\n",
    "    def __init__(self, name, height, alignment, level = 1, health = 50, spells = []):\n",
    "        Character.__init__(self, name, height, alignment, level = 1, health = 50)\n",
    "        self.spells = spells\n",
    "\n",
    "    def add_Spell(self, spell):\n",
    "        self.spells.append(spell)"
   ]
  },
  {
   "cell_type": "code",
   "execution_count": null,
   "metadata": {},
   "outputs": [],
   "source": []
  }
 ],
 "metadata": {
  "kernelspec": {
   "display_name": "Python 3",
   "language": "python",
   "name": "python3"
  },
  "language_info": {
   "codemirror_mode": {
    "name": "ipython",
    "version": 3
   },
   "file_extension": ".py",
   "mimetype": "text/x-python",
   "name": "python",
   "nbconvert_exporter": "python",
   "pygments_lexer": "ipython3",
   "version": "3.7.3"
  }
 },
 "nbformat": 4,
 "nbformat_minor": 2
}
