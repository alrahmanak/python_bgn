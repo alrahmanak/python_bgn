{
 "cells": [
  {
   "cell_type": "markdown",
   "metadata": {},
   "source": [
    "# Testing of dataframes operations"
   ]
  },
  {
   "cell_type": "markdown",
   "metadata": {},
   "source": [
    "import numpy as np\n",
    "import pandas as pd"
   ]
  },
  {
   "cell_type": "code",
   "execution_count": 118,
   "metadata": {
    "scrolled": true
   },
   "outputs": [],
   "source": [
    "test_df = pd.read_csv('./test.csv', sep=\",\")"
   ]
  },
  {
   "cell_type": "code",
   "execution_count": 120,
   "metadata": {},
   "outputs": [
    {
     "name": "stdout",
     "output_type": "stream",
     "text": [
      "   A   B   C   D\n",
      "0  1   2   3   4\n",
      "1 -1   0  -1  -1\n",
      "2  1   2   3   4\n",
      "3  5   6   0   8\n",
      "4  1   X   2   3\n"
     ]
    }
   ],
   "source": [
    "print(test_df)"
   ]
  },
  {
   "cell_type": "code",
   "execution_count": 127,
   "metadata": {},
   "outputs": [
    {
     "name": "stdout",
     "output_type": "stream",
     "text": [
      "   A   B   C   D\n",
      "0  1   2   3   4\n",
      "1 -1   0  -1  -1\n",
      "2  1   2   3   4\n",
      "3  5   6   0   8\n",
      "4  1   5   2   3\n"
     ]
    }
   ],
   "source": [
    "new_df = test_df.replace('X','5')\n",
    "print(new_df)"
   ]
  },
  {
   "cell_type": "code",
   "execution_count": 114,
   "metadata": {},
   "outputs": [
    {
     "ename": "TypeError",
     "evalue": "'(slice(None, None, None), 'C')' is an invalid key",
     "output_type": "error",
     "traceback": [
      "\u001b[1;31m---------------------------------------------------------------------------\u001b[0m",
      "\u001b[1;31mTypeError\u001b[0m                                 Traceback (most recent call last)",
      "\u001b[1;32m<ipython-input-114-3b5dd9ec2925>\u001b[0m in \u001b[0;36m<module>\u001b[1;34m\u001b[0m\n\u001b[1;32m----> 1\u001b[1;33m \u001b[0mtest_df\u001b[0m\u001b[1;33m[\u001b[0m\u001b[1;33m:\u001b[0m\u001b[1;33m,\u001b[0m\u001b[1;34m'C'\u001b[0m\u001b[1;33m]\u001b[0m\u001b[1;33m.\u001b[0m\u001b[0mreplace\u001b[0m\u001b[1;33m(\u001b[0m\u001b[1;34m'X'\u001b[0m\u001b[1;33m,\u001b[0m\u001b[1;34m'5'\u001b[0m\u001b[1;33m,\u001b[0m \u001b[0minplace\u001b[0m\u001b[1;33m=\u001b[0m\u001b[1;32mTrue\u001b[0m\u001b[1;33m)\u001b[0m\u001b[1;33m\u001b[0m\u001b[1;33m\u001b[0m\u001b[0m\n\u001b[0m\u001b[0;32m      2\u001b[0m \u001b[0mtest_df\u001b[0m\u001b[1;33m[\u001b[0m\u001b[1;33m:\u001b[0m\u001b[1;33m,\u001b[0m\u001b[1;34m'C'\u001b[0m\u001b[1;33m]\u001b[0m\u001b[1;33m\u001b[0m\u001b[1;33m\u001b[0m\u001b[0m\n",
      "\u001b[1;32mC:\\ProgramData\\Anaconda3\\lib\\site-packages\\pandas\\core\\frame.py\u001b[0m in \u001b[0;36m__getitem__\u001b[1;34m(self, key)\u001b[0m\n\u001b[0;32m   2925\u001b[0m             \u001b[1;32mif\u001b[0m \u001b[0mself\u001b[0m\u001b[1;33m.\u001b[0m\u001b[0mcolumns\u001b[0m\u001b[1;33m.\u001b[0m\u001b[0mnlevels\u001b[0m \u001b[1;33m>\u001b[0m \u001b[1;36m1\u001b[0m\u001b[1;33m:\u001b[0m\u001b[1;33m\u001b[0m\u001b[1;33m\u001b[0m\u001b[0m\n\u001b[0;32m   2926\u001b[0m                 \u001b[1;32mreturn\u001b[0m \u001b[0mself\u001b[0m\u001b[1;33m.\u001b[0m\u001b[0m_getitem_multilevel\u001b[0m\u001b[1;33m(\u001b[0m\u001b[0mkey\u001b[0m\u001b[1;33m)\u001b[0m\u001b[1;33m\u001b[0m\u001b[1;33m\u001b[0m\u001b[0m\n\u001b[1;32m-> 2927\u001b[1;33m             \u001b[0mindexer\u001b[0m \u001b[1;33m=\u001b[0m \u001b[0mself\u001b[0m\u001b[1;33m.\u001b[0m\u001b[0mcolumns\u001b[0m\u001b[1;33m.\u001b[0m\u001b[0mget_loc\u001b[0m\u001b[1;33m(\u001b[0m\u001b[0mkey\u001b[0m\u001b[1;33m)\u001b[0m\u001b[1;33m\u001b[0m\u001b[1;33m\u001b[0m\u001b[0m\n\u001b[0m\u001b[0;32m   2928\u001b[0m             \u001b[1;32mif\u001b[0m \u001b[0mis_integer\u001b[0m\u001b[1;33m(\u001b[0m\u001b[0mindexer\u001b[0m\u001b[1;33m)\u001b[0m\u001b[1;33m:\u001b[0m\u001b[1;33m\u001b[0m\u001b[1;33m\u001b[0m\u001b[0m\n\u001b[0;32m   2929\u001b[0m                 \u001b[0mindexer\u001b[0m \u001b[1;33m=\u001b[0m \u001b[1;33m[\u001b[0m\u001b[0mindexer\u001b[0m\u001b[1;33m]\u001b[0m\u001b[1;33m\u001b[0m\u001b[1;33m\u001b[0m\u001b[0m\n",
      "\u001b[1;32mC:\\ProgramData\\Anaconda3\\lib\\site-packages\\pandas\\core\\indexes\\base.py\u001b[0m in \u001b[0;36mget_loc\u001b[1;34m(self, key, method, tolerance)\u001b[0m\n\u001b[0;32m   2655\u001b[0m                                  'backfill or nearest lookups')\n\u001b[0;32m   2656\u001b[0m             \u001b[1;32mtry\u001b[0m\u001b[1;33m:\u001b[0m\u001b[1;33m\u001b[0m\u001b[1;33m\u001b[0m\u001b[0m\n\u001b[1;32m-> 2657\u001b[1;33m                 \u001b[1;32mreturn\u001b[0m \u001b[0mself\u001b[0m\u001b[1;33m.\u001b[0m\u001b[0m_engine\u001b[0m\u001b[1;33m.\u001b[0m\u001b[0mget_loc\u001b[0m\u001b[1;33m(\u001b[0m\u001b[0mkey\u001b[0m\u001b[1;33m)\u001b[0m\u001b[1;33m\u001b[0m\u001b[1;33m\u001b[0m\u001b[0m\n\u001b[0m\u001b[0;32m   2658\u001b[0m             \u001b[1;32mexcept\u001b[0m \u001b[0mKeyError\u001b[0m\u001b[1;33m:\u001b[0m\u001b[1;33m\u001b[0m\u001b[1;33m\u001b[0m\u001b[0m\n\u001b[0;32m   2659\u001b[0m                 \u001b[1;32mreturn\u001b[0m \u001b[0mself\u001b[0m\u001b[1;33m.\u001b[0m\u001b[0m_engine\u001b[0m\u001b[1;33m.\u001b[0m\u001b[0mget_loc\u001b[0m\u001b[1;33m(\u001b[0m\u001b[0mself\u001b[0m\u001b[1;33m.\u001b[0m\u001b[0m_maybe_cast_indexer\u001b[0m\u001b[1;33m(\u001b[0m\u001b[0mkey\u001b[0m\u001b[1;33m)\u001b[0m\u001b[1;33m)\u001b[0m\u001b[1;33m\u001b[0m\u001b[1;33m\u001b[0m\u001b[0m\n",
      "\u001b[1;32mpandas/_libs/index.pyx\u001b[0m in \u001b[0;36mpandas._libs.index.IndexEngine.get_loc\u001b[1;34m()\u001b[0m\n",
      "\u001b[1;32mpandas/_libs/index.pyx\u001b[0m in \u001b[0;36mpandas._libs.index.IndexEngine.get_loc\u001b[1;34m()\u001b[0m\n",
      "\u001b[1;31mTypeError\u001b[0m: '(slice(None, None, None), 'C')' is an invalid key"
     ]
    }
   ],
   "source": [
    "test_df[:,'C'].replace('X','5', inplace=True)\n",
    "test_df[:,'C']"
   ]
  },
  {
   "cell_type": "code",
   "execution_count": 97,
   "metadata": {},
   "outputs": [
    {
     "name": "stdout",
     "output_type": "stream",
     "text": [
      "<class 'pandas.core.frame.DataFrame'>\n",
      "RangeIndex: 4 entries, 0 to 3\n",
      "Data columns (total 4 columns):\n",
      "A     4 non-null int64\n",
      " B    4 non-null int64\n",
      " C    4 non-null int64\n",
      " D    4 non-null int64\n",
      "dtypes: int64(4)\n",
      "memory usage: 208.0 bytes\n",
      "None\n"
     ]
    }
   ],
   "source": [
    "print(test_df.info())"
   ]
  },
  {
   "cell_type": "code",
   "execution_count": 18,
   "metadata": {},
   "outputs": [
    {
     "name": "stdout",
     "output_type": "stream",
     "text": [
      "   A   B   C   D\n",
      "0  1   2   3   4\n",
      "1 -1   0  -1  -1\n",
      "2  1   2   3   4\n",
      "3  5   6   7   8\n"
     ]
    }
   ],
   "source": [
    "print(test_df.head())"
   ]
  },
  {
   "cell_type": "code",
   "execution_count": 19,
   "metadata": {},
   "outputs": [
    {
     "data": {
      "text/plain": [
       "RangeIndex(start=0, stop=4, step=1)"
      ]
     },
     "execution_count": 19,
     "metadata": {},
     "output_type": "execute_result"
    }
   ],
   "source": [
    "test_df.index"
   ]
  },
  {
   "cell_type": "code",
   "execution_count": 20,
   "metadata": {},
   "outputs": [
    {
     "name": "stdout",
     "output_type": "stream",
     "text": [
      "(4, 4)\n"
     ]
    }
   ],
   "source": [
    "print(test_df.shape)"
   ]
  },
  {
   "cell_type": "code",
   "execution_count": 21,
   "metadata": {
    "scrolled": true
   },
   "outputs": [
    {
     "data": {
      "text/plain": [
       "<bound method DataFrame.info of    A   B   C   D\n",
       "0  1   2   3   4\n",
       "1 -1   0  -1  -1\n",
       "2  1   2   3   4\n",
       "3  5   6   7   8>"
      ]
     },
     "execution_count": 21,
     "metadata": {},
     "output_type": "execute_result"
    }
   ],
   "source": [
    "test_df.info"
   ]
  },
  {
   "cell_type": "code",
   "execution_count": 24,
   "metadata": {},
   "outputs": [
    {
     "name": "stdout",
     "output_type": "stream",
     "text": [
      "1\n",
      "1\n",
      "1\n",
      "1\n"
     ]
    }
   ],
   "source": [
    "# accessing column values\n",
    "# Using `iloc[]`\n",
    "print(test_df.iloc[0][0])\n",
    "\n",
    "# Using `loc[]`\n",
    "print(test_df.loc[0]['A'])\n",
    "\n",
    "# Using `at[]`\n",
    "print(test_df.at[0,'A'])\n",
    "\n",
    "# Using `iat[]`\n",
    "print(test_df.iat[0,0])"
   ]
  },
  {
   "cell_type": "code",
   "execution_count": 37,
   "metadata": {},
   "outputs": [
    {
     "name": "stdout",
     "output_type": "stream",
     "text": [
      "A     1\n",
      " B    2\n",
      " C    3\n",
      " D    4\n",
      "Name: 0, dtype: int64\n",
      "0    1\n",
      "1   -1\n",
      "2    1\n",
      "3    5\n",
      "Name: A, dtype: int64\n"
     ]
    }
   ],
   "source": [
    "# Use `iloc[]` to select row `0`\n",
    "print(test_df.iloc[0])\n",
    "\n",
    "\n",
    "# Use `loc[]` to select column `'A'`\n",
    "print(test_df.loc[:,'A'])\n"
   ]
  },
  {
   "cell_type": "code",
   "execution_count": 43,
   "metadata": {},
   "outputs": [
    {
     "data": {
      "text/html": [
       "<div>\n",
       "<style scoped>\n",
       "    .dataframe tbody tr th:only-of-type {\n",
       "        vertical-align: middle;\n",
       "    }\n",
       "\n",
       "    .dataframe tbody tr th {\n",
       "        vertical-align: top;\n",
       "    }\n",
       "\n",
       "    .dataframe thead th {\n",
       "        text-align: right;\n",
       "    }\n",
       "</style>\n",
       "<table border=\"1\" class=\"dataframe\">\n",
       "  <thead>\n",
       "    <tr style=\"text-align: right;\">\n",
       "      <th></th>\n",
       "      <th>A</th>\n",
       "      <th>B</th>\n",
       "      <th>C</th>\n",
       "      <th>D</th>\n",
       "    </tr>\n",
       "  </thead>\n",
       "  <tbody>\n",
       "    <tr>\n",
       "      <th>0</th>\n",
       "      <td>1</td>\n",
       "      <td>2.0</td>\n",
       "      <td>3</td>\n",
       "      <td>4</td>\n",
       "    </tr>\n",
       "    <tr>\n",
       "      <th>1</th>\n",
       "      <td>-1</td>\n",
       "      <td>NaN</td>\n",
       "      <td>-1</td>\n",
       "      <td>-1</td>\n",
       "    </tr>\n",
       "    <tr>\n",
       "      <th>2</th>\n",
       "      <td>1</td>\n",
       "      <td>2.0</td>\n",
       "      <td>3</td>\n",
       "      <td>4</td>\n",
       "    </tr>\n",
       "    <tr>\n",
       "      <th>3</th>\n",
       "      <td>5</td>\n",
       "      <td>6.0</td>\n",
       "      <td>7</td>\n",
       "      <td>8</td>\n",
       "    </tr>\n",
       "  </tbody>\n",
       "</table>\n",
       "</div>"
      ],
      "text/plain": [
       "   A    B   C   D\n",
       "0  1  2.0   3   4\n",
       "1 -1  NaN  -1  -1\n",
       "2  1  2.0   3   4\n",
       "3  5  6.0   7   8"
      ]
     },
     "execution_count": 43,
     "metadata": {},
     "output_type": "execute_result"
    }
   ],
   "source": [
    "new_df = test_df.replace(0,np.NaN)\n",
    "new_df"
   ]
  },
  {
   "cell_type": "code",
   "execution_count": 101,
   "metadata": {},
   "outputs": [
    {
     "name": "stdout",
     "output_type": "stream",
     "text": [
      "   A   B   C   D\n",
      "0  1   2   3   4\n",
      "1 -1   0  -1  -1\n",
      "2  1   2   3   4\n",
      "3  5   6   0   8\n",
      "[-1, 0]\n",
      "[-1, 0, 9]\n",
      "[-1, 0, 3]\n",
      "[0]\n",
      "     A    B   C    D\n",
      "0  1.0  2.0 NaN  4.0\n",
      "1  NaN  NaN NaN  NaN\n",
      "2  1.0  2.0 NaN  4.0\n",
      "3  5.0  6.0 NaN  8.0\n"
     ]
    }
   ],
   "source": [
    "# get all columns of dataset\n",
    "cols = test_df.columns\n",
    "print(test_df)  \n",
    "# get value of missing_or_unknown \n",
    "feat_info = pd.read_csv('./test_feature.csv', sep=\";\")\n",
    "# first get all attribute names column, then iterate thru it\n",
    "col_feat_names = feat_info.loc[:,'attribute']\n",
    "feat_info.set_index('attribute', inplace=True)\n",
    "for cn in col_feat_names:\n",
    "    # array of miss or unknow values\n",
    "    # get string value of missing_or_unknown\n",
    "    missing_or_un_for_col = feat_info.loc[cn].missing_or_unknown\n",
    "     # replace [ and ]\n",
    "    mu_string = missing_or_un_for_col.replace('[','').replace(']','')\n",
    "    # mu_string = mu_string.replace(']','')\n",
    "    mu_list = [int(k) for k in mu_string.split(',')]\n",
    "    print(mu_list)\n",
    "    for mu in mu_list:\n",
    "        for c in cols:\n",
    "            test_df.loc[test_df[c] == mu,c] = np.nan\n",
    "        \n",
    "print(test_df)    "
   ]
  },
  {
   "cell_type": "code",
   "execution_count": 109,
   "metadata": {},
   "outputs": [
    {
     "name": "stdout",
     "output_type": "stream",
     "text": [
      "Total Number of missing values for attribute  A  is  1  out of  4\n",
      "Total Number of missing values for attribute   B  is  1  out of  4\n",
      "Total Number of missing values for attribute   C  is  4  out of  4\n",
      "Total Number of missing values for attribute   D  is  1  out of  4\n"
     ]
    }
   ],
   "source": [
    "for c in cols:\n",
    "    total_rows = test_df[c].count()\n",
    "    total_recs = len(test_df[c].index)\n",
    "    print('Total Number of missing values for attribute ', c , ' is ', test_df[c].isnull().sum(), ' out of ', total_recs )"
   ]
  },
  {
   "cell_type": "code",
   "execution_count": 62,
   "metadata": {},
   "outputs": [
    {
     "name": "stdout",
     "output_type": "stream",
     "text": [
      "     A    B    C    D\n",
      "0  1.0  2.0  3.0  4.0\n",
      "1  NaN  NaN  NaN  NaN\n",
      "2  1.0  2.0  3.0  4.0\n",
      "3  5.0  6.0  NaN  8.0\n"
     ]
    }
   ],
   "source": [
    "cols = test_df.columns\n",
    "missing_or_un_for_col = [-1,0]\n",
    "for mu in missing_or_un_for_col:\n",
    "    for c in cols:\n",
    "        test_df.loc[test_df[c] == mu,c] = np.nan\n",
    "print(test_df)"
   ]
  },
  {
   "cell_type": "code",
   "execution_count": null,
   "metadata": {},
   "outputs": [],
   "source": [
    "countOfColAWithVal1 = test_df[:'A']"
   ]
  },
  {
   "cell_type": "code",
   "execution_count": 48,
   "metadata": {},
   "outputs": [
    {
     "data": {
      "text/plain": [
       "<bound method DataFrame.info of      A   B    C    D\n",
       "0  1.0   2  3.0  4.0\n",
       "1  NaN   0  NaN  NaN\n",
       "2  1.0   2  3.0  4.0\n",
       "3  5.0   6  7.0  8.0>"
      ]
     },
     "execution_count": 48,
     "metadata": {},
     "output_type": "execute_result"
    }
   ],
   "source": [
    "new_df = test_df.replace(-1,np.NaN)\n",
    "new_df\n",
    "new_df.info"
   ]
  },
  {
   "cell_type": "code",
   "execution_count": 23,
   "metadata": {},
   "outputs": [
    {
     "name": "stdout",
     "output_type": "stream",
     "text": [
      "     Col1 Col2\n",
      "Row1    1    2\n",
      "Row2    3    4\n"
     ]
    }
   ],
   "source": [
    "# example of creating a data set \n",
    "data = np.array([['','Col1','Col2'],\n",
    "                ['Row1',1,2],\n",
    "                ['Row2',3,4]])\n",
    "                \n",
    "print(pd.DataFrame(data=data[1:,1:],\n",
    "                  index=data[1:,0],\n",
    "                  columns=data[0,1:]))"
   ]
  },
  {
   "cell_type": "code",
   "execution_count": 138,
   "metadata": {},
   "outputs": [
    {
     "name": "stdout",
     "output_type": "stream",
     "text": [
      "Sorted List returned :\n",
      "[1, 2, 3, 4, 6, 7, 8]\n",
      "\n",
      "Reverse sort :\n",
      "[8, 7, 6, 4, 3, 2, 1]\n",
      "\n",
      "Original list not (modified :\n",
      "[2, 8, 1, 4, 6, 3, 7]\n"
     ]
    }
   ],
   "source": [
    "# checking the sorted function\n",
    "\n",
    "import operator\n",
    "x = [2, 8, 1, 4, 6, 3, 7] \n",
    "  \n",
    "print (\"Sorted List returned :\")\n",
    "print (sorted(x) )\n",
    "  \n",
    "print (\"\\nReverse sort :\")\n",
    "print (sorted(x, reverse = True) )\n",
    "  \n",
    "#print (sorted(x, key=operator.itemgetter(1), reverse = True) )\n",
    "print (\"\\nOriginal list not (modified :\" )\n",
    "print (x )"
   ]
  },
  {
   "cell_type": "markdown",
   "metadata": {},
   "source": [
    "### create a CSV file with some random data in it (integers, floats and strings)"
   ]
  },
  {
   "cell_type": "code",
   "execution_count": 5,
   "metadata": {},
   "outputs": [
    {
     "name": "stdout",
     "output_type": "stream",
     "text": [
      "         A       B       C       D       E       F       G         H  \\\n",
      "0   791666  122737  410480  679029  329996  146147  750297  0.497327   \n",
      "1    13065  243936  529335  159288  641397    3876  596966  0.532386   \n",
      "2   889023  576875  789858  735321  533342  519054  468669  0.383424   \n",
      "3   520363  810048  368640  184884  535181  687674  705877  0.583804   \n",
      "4   182622  697272   65076  935089  102945    7961   81038  0.783237   \n",
      "5   757588  203641  674409  724638  894422  667916  934397  0.012403   \n",
      "6    22358  673066  745357  160990  805308  845271  359895  0.845720   \n",
      "7   465489  694585   56021  546225  818894   55199  798555  0.553461   \n",
      "8   621377  211049  319676  210470  825283   94975  208211  0.488879   \n",
      "9   842991  809112  855930  324688  357214  569809  178091  0.841560   \n",
      "10  400915  367953  664740   66270  483363   97473  194240  0.760665   \n",
      "11  198699  962747  538185  847112  595327  339058  676962  0.571784   \n",
      "12   45222  159371  990710  624175   61526  747690   37547  0.229257   \n",
      "13  488947  683299  586630   33747  871765  766483  274617  0.213681   \n",
      "14  274934   71042  195891  737756  614681   64173    5728  0.018774   \n",
      "15  896281  180962  834153  971016  814861  746986  479297  0.803513   \n",
      "16  966932  990966  298090  633678  242005  626517  992311  0.632101   \n",
      "17  853193   26443  475749  657803  337408  855786  223167  0.385609   \n",
      "18  752397  860459  496460  345488  981232  353262  670824  0.339516   \n",
      "19  660306  302628  146777   87033  987135   46704  247522  0.707859   \n",
      "20  924612  751029  426655  426394  815896   62080  966885  0.798525   \n",
      "21  475612  926104  745061  820123  515093  835076  905809  0.547688   \n",
      "22  273873  583450  937481  153196  504841  112588  238933  0.528692   \n",
      "23  100059  842319  414598  560963  179242  785941  590901  0.049032   \n",
      "24  110087  963965  860143  614949  813378  781535  996117  0.353573   \n",
      "25  294830  857206  287837  129316  612383  372409  528133  0.321063   \n",
      "26  976857  510498  552067  198857  121126  402869  996122  0.507651   \n",
      "27  894797  160712  267178  900823  332168  545138  422495  0.817243   \n",
      "28  415961  774882  460010  355930  785651  994058  433149  0.106993   \n",
      "29  397703  948342  142807  585769  815339  781988  462212  0.155434   \n",
      "..     ...     ...     ...     ...     ...     ...     ...       ...   \n",
      "70  762172  779619   68458  990957   10069  868929  264167  0.596150   \n",
      "71  537924   47264  257330   16310  753075  355251  518795  0.849476   \n",
      "72  285528  498391  528497  207339  918627  251697  282379  0.202023   \n",
      "73  654352  170957  457853  593113  637154  552447  206745  0.355314   \n",
      "74  467709  735778  706404   40355  132988  629866  856290  0.396819   \n",
      "75  646983  246302  913714   39236  801308  385141  803902  0.907753   \n",
      "76   92148  350996  396189  847333  545493  918262  313259  0.257241   \n",
      "77  581338  904095  652877  270089  813093  149100  452889  0.569105   \n",
      "78  771208  278784    4192  136471  596225  411798  363350  0.319658   \n",
      "79   11250  558011  306532  875998  744913  817846  559389  0.052355   \n",
      "80  374781  993385  528261  483647  452042  512764  170071  0.499113   \n",
      "81  830919  773462  764171   71786  982316  274131  964747  0.120029   \n",
      "82  110056  886159  380117  108073  353869  608056  710527  0.041050   \n",
      "83  912405  786087   58693   23078  614690  562415  117603  0.589321   \n",
      "84  327858  958683   92083  751834  812392  953617   21215  0.322800   \n",
      "85   18026  186063  289955  601251  975338  551213  911905  0.369827   \n",
      "86  770773  302710  383896  651461  645917  833614  726609  0.022132   \n",
      "87  227397  871331  807009  774994  807039   83295  600460  0.760210   \n",
      "88   71020  434377  639311  224817  319652  850134  488153  0.449861   \n",
      "89  594318  324663  860253  826977  183673  845831  868793  0.709959   \n",
      "90  404812  168273  145246  899124  659080  107238  471427  0.630441   \n",
      "91  459719  203769  439141  809605  502036  764444  503384  0.728040   \n",
      "92  159885    3475  999753  968656  482751  773587  805566  0.153222   \n",
      "93  512006  855499  874798  549067  880482  311640  338232  0.229177   \n",
      "94  317412   23203  375486   20252  785892   57076  258680  0.899897   \n",
      "95  589572  887079  651865  499263  724304   71639  896354  0.446627   \n",
      "96  479321   38788  480469  488538  286214  356470  552091  0.199184   \n",
      "97   23714   85290  639376   45813   72364    5130  427400  0.463977   \n",
      "98  539109  269123  435712  789469  832046  342735  360945  0.846743   \n",
      "99  612546  274532  217435  500612  370824  766369   79811  0.581635   \n",
      "\n",
      "             I           J  \n",
      "0   atg7bWRFfe  AENjryDhPS  \n",
      "1   H5Ejq46Ewf  UvyD0EKFvD  \n",
      "2   ny3o7SegPJ  4FEyLnwZcN  \n",
      "3   13sSF3sYK6  66DeGT6X6I  \n",
      "4   fOjDdZSU7a  7tzfKOITX4  \n",
      "5   04OJiv9wpA  71aJQ1yDqu  \n",
      "6   JSEPPWUIhK  obNZIJm4cN  \n",
      "7   6ST7QzOnw9  gzrJgfCmqU  \n",
      "8   UwkvbIhm8j  IA8IHfenZc  \n",
      "9   rjSMRWvJFa  nVT88rtTX9  \n",
      "10  3t9PRW5woj  U6QUKWhNXS  \n",
      "11  JDLOIpWbhx  wrsovFbnVm  \n",
      "12  QUUeeZBVGA  ResCJB2W22  \n",
      "13  swdNdAiaSw  LrNij3mpVe  \n",
      "14  BcfngmEgC4  wA3DoJYawX  \n",
      "15  nKavQIlIj6  yGO2f7Z9QX  \n",
      "16  pCAypHBQjw  Y3BYXBBJs1  \n",
      "17  MAGCdEwH7G  ekhkEK1kYF  \n",
      "18  KShf9UtMik  cPkrq9OVuL  \n",
      "19  UwNP9FjEFL  GgaU9HmyPa  \n",
      "20  QqMf0Gxqst  M7f7ZAeIZq  \n",
      "21  ebcDsrcPqO  TFiSKytiQw  \n",
      "22  4NI46qNYfI  RiyWXa3If9  \n",
      "23  A9x7dtwt8w  houon28pSy  \n",
      "24  5BTG8VCVSF  iGxdnuzpRt  \n",
      "25  rY8UMkPn8K  HIBw14K18t  \n",
      "26  FZ3b8jTR9a  L53lsXY2mQ  \n",
      "27  y8q2ZdfQvG  UkzH1rGFcb  \n",
      "28  lD6S6fZsqO  sAN6dZZYIh  \n",
      "29  0hCfAi0Uh3  sVNSuRDMa0  \n",
      "..         ...         ...  \n",
      "70  8wQAZrpHuc  5y1Suxr5JI  \n",
      "71  g9fBC83Mvb  E7q2MOKDqI  \n",
      "72  0flTkeYi6y  kVrJvjfOjO  \n",
      "73  xNDo1QibLt  UJITQbd5F4  \n",
      "74  dlVTRmN70k  D9RLZWdzDC  \n",
      "75  WbbE2PpBXr  WwWrRKjcQi  \n",
      "76  i4cINCz5bN  QNUMavn56i  \n",
      "77  jHLyMcoXSi  USBqbmAPyd  \n",
      "78  qeohW4Cmz9  gUwdhuf7H2  \n",
      "79  vWt2oP8wdS  FOjLFLWFsy  \n",
      "80  2d42diWyBa  ks1ZNL4xes  \n",
      "81  KHLsxmK0L8  UywZYTQKK8  \n",
      "82  Kjl4HRvnSF  H4O3D0G4lN  \n",
      "83  0fAvN8sBwz  tb3ldAMiMz  \n",
      "84  LfBMDKf2CN  5W0LrSH3bN  \n",
      "85  zGDsOaXjzz  Ln7NjLIqNH  \n",
      "86  Uvd03ZAP6f  oP9t1kSWgy  \n",
      "87  2BHUoX7Fmy  q9OAP02lXV  \n",
      "88  2Mq7BMMs7q  90ntAu9vBy  \n",
      "89  ahmsTLYopr  MpFbGaVhNQ  \n",
      "90  oeKyNHRAro  EHBNx99T7e  \n",
      "91  YBrn12wLTL  UUttxPCqKj  \n",
      "92  MHc3BwAjki  NG4Pa2WgUP  \n",
      "93  u8VfsGLPAG  HFFhq9Ld8V  \n",
      "94  wbTAByRxYJ  fcDgr022j2  \n",
      "95  MiJNqneG3f  O8tBlJ2ske  \n",
      "96  66n1NSe9qK  B0vKOpXnA6  \n",
      "97  8ZbI6w8Kd0  WsC03rGi7u  \n",
      "98  qxS2FUFpiL  SN5U91Nt6z  \n",
      "99  0uHb68G2BF  WjhvkKAjSM  \n",
      "\n",
      "[100 rows x 10 columns]\n"
     ]
    }
   ],
   "source": [
    "import pandas as pd\n",
    "import numpy as np\n",
    "# setting the number of rows for the CSV file\n",
    "N = 100\n",
    "# creating a pandas dataframe (df) with 8 columns and N rows with random integers between 999 and 999999 and with column names from A to H\n",
    "df = pd.DataFrame(np.random.randint(999,999999,size=(N, 7)), columns=list('ABCDEFG'))\n",
    "# creating one column 'H' of float type using the uniform distribution\n",
    "df['H'] = np.random.rand(N)\n",
    "# creating two additional columns with random strings\n",
    "df['I'] = pd.util.testing.rands_array(10, N)\n",
    "df['J'] = pd.util.testing.rands_array(10, N)\n",
    "# print the dataframe to see what we have created\n",
    "print(df)\n",
    "# export the dataframe to csv using comma delimiting\n",
    "df.to_csv(\"random.csv\", sep=',')"
   ]
  },
  {
   "cell_type": "code",
   "execution_count": 6,
   "metadata": {},
   "outputs": [
    {
     "name": "stdout",
     "output_type": "stream",
     "text": [
      "791666\n",
      "13065\n",
      "889023\n",
      "520363\n",
      "182622\n",
      "757588\n",
      "22358\n",
      "465489\n",
      "621377\n",
      "842991\n",
      "400915\n",
      "198699\n",
      "45222\n",
      "488947\n",
      "274934\n",
      "896281\n",
      "966932\n",
      "853193\n",
      "752397\n",
      "660306\n",
      "924612\n",
      "475612\n",
      "273873\n",
      "100059\n",
      "110087\n",
      "294830\n",
      "976857\n",
      "894797\n",
      "415961\n",
      "397703\n",
      "800644\n",
      "155274\n",
      "785043\n",
      "305855\n",
      "432406\n",
      "37580\n",
      "542709\n",
      "64941\n",
      "650991\n",
      "859191\n",
      "553287\n",
      "66548\n",
      "728934\n",
      "273341\n",
      "321275\n",
      "904078\n",
      "205130\n",
      "100072\n",
      "599338\n",
      "962294\n",
      "174915\n",
      "160358\n",
      "774822\n",
      "193152\n",
      "387525\n",
      "545161\n",
      "944135\n",
      "726476\n",
      "365752\n",
      "912552\n",
      "46948\n",
      "226887\n",
      "126646\n",
      "474345\n",
      "327582\n",
      "838793\n",
      "580977\n",
      "22874\n",
      "822339\n",
      "112579\n",
      "762172\n",
      "537924\n",
      "285528\n",
      "654352\n",
      "467709\n",
      "646983\n",
      "92148\n",
      "581338\n",
      "771208\n",
      "11250\n",
      "374781\n",
      "830919\n",
      "110056\n",
      "912405\n",
      "327858\n",
      "18026\n",
      "770773\n",
      "227397\n",
      "71020\n",
      "594318\n",
      "404812\n",
      "459719\n",
      "159885\n",
      "512006\n",
      "317412\n",
      "589572\n",
      "479321\n",
      "23714\n",
      "539109\n",
      "612546\n"
     ]
    }
   ],
   "source": [
    "import csv  \n",
    "with open(\"random.csv\") as csvfile:  \n",
    "    data = csv.DictReader(csvfile)\n",
    "    for row in data:\n",
    "        print(row['A'])"
   ]
  }
 ],
 "metadata": {
  "kernelspec": {
   "display_name": "Python 3",
   "language": "python",
   "name": "python3"
  },
  "language_info": {
   "codemirror_mode": {
    "name": "ipython",
    "version": 3
   },
   "file_extension": ".py",
   "mimetype": "text/x-python",
   "name": "python",
   "nbconvert_exporter": "python",
   "pygments_lexer": "ipython3",
   "version": "3.7.3"
  }
 },
 "nbformat": 4,
 "nbformat_minor": 2
}
