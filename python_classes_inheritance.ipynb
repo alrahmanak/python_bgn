{
 "cells": [
  {
   "cell_type": "markdown",
   "metadata": {},
   "source": [
    "### Classes and Inheritance"
   ]
  },
  {
   "cell_type": "code",
   "execution_count": 1,
   "metadata": {},
   "outputs": [
    {
     "name": "stdout",
     "output_type": "stream",
     "text": [
      "Class Person\n",
      "John Doe\n",
      "Class Student\n",
      "Welcome Mike Olsen to the class of 2019\n"
     ]
    }
   ],
   "source": [
    "class Person:\n",
    "  def __init__(self, fname, lname):\n",
    "    self.firstname = fname\n",
    "    self.lastname = lname\n",
    "\n",
    "  def printname(self):\n",
    "    print(self.firstname, self.lastname)\n",
    "\n",
    "print(\"Class Person\")\n",
    "x = Person(\"John\", \"Doe\")\n",
    "x.printname()\n",
    "\n",
    "class Representative(Person):\n",
    "  pass\n",
    "\n",
    "class Student(Person):\n",
    "  def __init__(self, fname, lname, year):\n",
    "    super().__init__(fname, lname)\n",
    "    self.graduationyear = year\n",
    "\n",
    "  def welcome(self):\n",
    "    print(\"Welcome\", self.firstname, self.lastname, \"to the class of\", self.graduationyear)\n",
    "\n",
    "print(\"Class Student\")\n",
    "x = Student(\"Mike\", \"Olsen\", 2019)\n",
    "x.welcome()"
   ]
  },
  {
   "cell_type": "markdown",
   "metadata": {},
   "source": [
    "### Using __str__ method"
   ]
  },
  {
   "cell_type": "code",
   "execution_count": 4,
   "metadata": {},
   "outputs": [
    {
     "name": "stdout",
     "output_type": "stream",
     "text": [
      "New Book\n",
      "AR\n"
     ]
    }
   ],
   "source": [
    "class MyBook():\n",
    "    def __init__(self, title, author):\n",
    "        self.title = title\n",
    "        self.author = author\n",
    "        \n",
    "    def __str__(self):\n",
    "        print(\"Author: {0}, Title: {1}.\".format(self.author, self.title))\n",
    "\n",
    "b = MyBook(\"New Book\", \"AR\")\n",
    "\n",
    "print(b.title)\n",
    "print(b.author)"
   ]
  },
  {
   "cell_type": "markdown",
   "metadata": {},
   "source": [
    "### Overwrite __add__ , __sub__"
   ]
  },
  {
   "cell_type": "code",
   "execution_count": 15,
   "metadata": {},
   "outputs": [
    {
     "name": "stdout",
     "output_type": "stream",
     "text": [
      "Total savings are 100 \n",
      "Total savings are 150 \n"
     ]
    }
   ],
   "source": [
    "class Savings:\n",
    "    def __init__(self, n, amnt):\n",
    "        self.name = n\n",
    "        self.amount = amnt\n",
    "        \n",
    "    def __add__(self, amnt):\n",
    "        \n",
    "        if self.name == amnt.name:\n",
    "            return Savings(self.name, self.amount+amnt.amount)\n",
    "        else :\n",
    "            return self\n",
    "        \n",
    "    def __str__(self):      \n",
    "        return \"Total savings are {} \".format(self.amount)\n",
    "    \n",
    "    def sort_by(self):\n",
    "        return self.amount\n",
    "\n",
    "mySavings = Savings(\"Abdul\", 100)\n",
    "newSavings = Savings(\"Abdul\" , 50)\n",
    "print(mySavings)\n",
    "print(mySavings+newSavings)"
   ]
  },
  {
   "cell_type": "markdown",
   "metadata": {},
   "source": [
    "### sorting class instances"
   ]
  },
  {
   "cell_type": "code",
   "execution_count": 30,
   "metadata": {},
   "outputs": [
    {
     "name": "stdout",
     "output_type": "stream",
     "text": [
      "List before sort\n",
      "Total savings are 300 \n",
      "Total savings are 400 \n",
      "Total savings are 100 \n",
      "\n",
      "========\n",
      "Lamda attribute way to sort\n",
      "Total savings are 100 \n",
      "Total savings are 300 \n",
      "Total savings are 400 \n",
      "\n",
      "========\n",
      "Lamda method way to sort\n",
      "Total savings are 100 \n",
      "Total savings are 300 \n",
      "Total savings are 400 \n",
      "\n",
      "========\n",
      "Class name - method name to sort\n",
      "Total savings are 100 \n",
      "Total savings are 300 \n",
      "Total savings are 400 \n"
     ]
    }
   ],
   "source": [
    "def p_savings(l):\n",
    "    for ts in l:\n",
    "        print(ts)\n",
    "\n",
    "team_savings = [\n",
    "    Savings(\"John\", 300),\n",
    "    Savings(\"Rahul\", 400),\n",
    "    Savings(\"Abdul\", 100)\n",
    "]\n",
    "print(\"List before sort\") \n",
    "p_savings(team_savings)\n",
    "\n",
    "\n",
    "print(\"\")    \n",
    "print(\"========\")\n",
    "print(\"Lamda attribute way to sort\")\n",
    "ts3_inorder = sorted(team_savings, key=lambda k:k.amount)\n",
    "p_savings(ts3_inorder)\n",
    "\n",
    "print(\"\")    \n",
    "print(\"========\")\n",
    "print(\"Lamda method way to sort\")\n",
    "ts2_inorder = sorted(team_savings, key=lambda k:k.sort_by())\n",
    "p_savings(ts2_inorder)\n",
    "\n",
    "\n",
    "print(\"\") \n",
    "print(\"========\")\n",
    "print(\"Class name - method name to sort\")\n",
    "team_s_inorder = sorted(team_savings, key = Savings.sort_by)\n",
    "p_savings(team_s_inorder)\n",
    "\n",
    "\n",
    "\n",
    "\n"
   ]
  },
  {
   "cell_type": "markdown",
   "metadata": {},
   "source": [
    "### Handling errors Try Catch Exception"
   ]
  },
  {
   "cell_type": "code",
   "execution_count": 1,
   "metadata": {},
   "outputs": [
    {
     "name": "stdout",
     "output_type": "stream",
     "text": [
      "got an error\n",
      "list index out of range\n",
      "continuing\n"
     ]
    }
   ],
   "source": [
    "try:\n",
    "    items = ['a', 'b']\n",
    "    third = items[2]\n",
    "    print(\"This won't print\")\n",
    "except Exception as e:\n",
    "    print(\"got an error\")\n",
    "    print(e)\n",
    "\n",
    "print(\"continuing\")"
   ]
  },
  {
   "cell_type": "code",
   "execution_count": 3,
   "metadata": {},
   "outputs": [
    {
     "name": "stdout",
     "output_type": "stream",
     "text": [
      "0 0.3333333333333333\n",
      "1 0.5\n",
      "2 1.0\n",
      "Got an error float division by zero\n"
     ]
    }
   ],
   "source": [
    "try:\n",
    "    for i in range(5):\n",
    "        \n",
    "        print(i, 1.0 / (3-i))\n",
    "except Exception as error_inst:\n",
    "    print(\"Got an error\", error_inst)"
   ]
  },
  {
   "cell_type": "code",
   "execution_count": 2,
   "metadata": {},
   "outputs": [],
   "source": [
    "VOWEL_COST = 250\n",
    "LETTERS = 'ABCDEFGHIJKLMNOPQRSTUVWXYZ'\n",
    "VOWELS = 'AEIOU'\n",
    "\n",
    "# Write the WOFPlayer class definition (part A) here\n",
    "class WOFPlayer:\n",
    "    \n",
    "    def __init__(self, name):\n",
    "        self.name = name\n",
    "        self.prizeMoney = 0\n",
    "        self.prizes = []\n",
    "    \n",
    "    def addMoney(self, amt):\n",
    "        self.prizeMoney = self.prizeMoney + amt\n",
    "        \n",
    "    def goBankrupt(self):\n",
    "        self.prizeMoney = 0\n",
    "        \n",
    "    def addPrize(self, prize):\n",
    "        self.prizes.append(prize)\n",
    "        \n",
    "    def __str__(self):\n",
    "        return \"{} ({})\".format(self.name, self.prizeMoney)\n",
    "\n",
    "# Write the WOFHumanPlayer class definition (part B) here\n",
    "class WOFHumanPlayer(WOFPlayer):\n",
    "\n",
    "    def getMove(self, category, obscuredPhrase, guessed):\n",
    "        prompt = \"{} has ${}\\nCategory: {}\\nPhrase:  {}\\nGuessed: {}\\nGuess a letter, phrase, or type 'exit' or 'pass': \".format(self.name, self.prizeMoney, category, obscuredPhrase, guessed)\n",
    "        userinp = input(prompt)\n",
    "        print('user entered:',userinp)\n",
    "        return userinp\n",
    "    \n",
    "# Write the WOFComputerPlayer class definition (part C) here\n",
    "def areAllVowels(pl):\n",
    "        flag = True\n",
    "        for c in pl:\n",
    "            if c not in VOWELS:\n",
    "                flag = False\n",
    "        return flag\n",
    "        \n",
    "class WOFComputerPlayer(WOFPlayer):\n",
    "    \n",
    "    \n",
    "    SORTED_FREQUENCIES = 'ZQXJKVBPYGFWMUCLDRHSNIOATE'\n",
    "    \n",
    "    def __init__(self, name, difficulty):     \n",
    "        WOFPlayer.__init__(self, name)\n",
    "        self.difficulty = difficulty\n",
    "        \n",
    "    def smartCoinFlip(self):\n",
    "        rint = random.randint(2, 5)\n",
    "        if rint > self.difficulty:\n",
    "            return True\n",
    "        else:\n",
    "            return False\n",
    "            \n",
    "    def getPossibleLetters(self, guessed):\n",
    "        pl = []\n",
    "        for c in LETTERS:\n",
    "            if self.prizeMoney < VOWEL_COST and c in VOWELS:\n",
    "                continue\n",
    "\n",
    "            if c not in guessed:\n",
    "                pl.append(c)\n",
    "        return pl    \n",
    "\n",
    "    \n",
    "    def getMove(self, category, obscuredPhrase, guessed):\n",
    "        pl = getPossibleLetters(guessed)\n",
    "        \n",
    "        if areAllVowels(pl):\n",
    "            return 'pass'\n",
    "        \n",
    "        gbFlag = smartCoinFlip()\n",
    "        spl = sorted(pl, reverse=True)\n",
    "        if gbFlag :\n",
    "            for c in spl:\n",
    "                if c in SORTED_FREQUENCIES:\n",
    "                    return c\n",
    "        else :\n",
    "            rplc = random.choice(pl)\n",
    "            return rplc\n"
   ]
  },
  {
   "cell_type": "code",
   "execution_count": null,
   "metadata": {},
   "outputs": [],
   "source": []
  }
 ],
 "metadata": {
  "kernelspec": {
   "display_name": "Python 3",
   "language": "python",
   "name": "python3"
  },
  "language_info": {
   "codemirror_mode": {
    "name": "ipython",
    "version": 3
   },
   "file_extension": ".py",
   "mimetype": "text/x-python",
   "name": "python",
   "nbconvert_exporter": "python",
   "pygments_lexer": "ipython3",
   "version": "3.7.3"
  }
 },
 "nbformat": 4,
 "nbformat_minor": 2
}
