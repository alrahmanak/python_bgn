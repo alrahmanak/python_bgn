{
 "cells": [
  {
   "cell_type": "markdown",
   "metadata": {},
   "source": [
    "## List comprehension simple example"
   ]
  },
  {
   "cell_type": "code",
   "execution_count": 8,
   "metadata": {},
   "outputs": [
    {
     "name": "stdout",
     "output_type": "stream",
     "text": [
      "[10]\n"
     ]
    }
   ],
   "source": [
    "alist = [4,2,8,6,5]\n",
    "blist = [num*2 for num in alist if num%2==1]\n",
    "print(blist)"
   ]
  },
  {
   "cell_type": "markdown",
   "metadata": {},
   "source": [
    "####  extract all gemstone names - and only the names - from the list of dictionaries called gem_data that belong to the gem family called \"Quartz\""
   ]
  },
  {
   "cell_type": "code",
   "execution_count": 1,
   "metadata": {},
   "outputs": [],
   "source": [
    "gem_data = [{\"Name\": \"Alexandrite\",\n",
    "             \"Mohs Hardness\": 8.5,\n",
    "             \"Family\": \"Chrysoberyl\"},\n",
    "            {\"Name\": \"Amethyst\",\n",
    "             \"Mohs Hardness\": 7.0,\n",
    "             \"Family\": \"Quartz\"},\n",
    "            {\"Name\": \"Jargon\",\n",
    "             \"Mohs Hardness\": 7.5,\n",
    "             \"Family\": \"Zircon\"},\n",
    "            {\"Name\": \"Diamond\",\n",
    "             \"Mohs Hardness\": 10.0,\n",
    "             \"Family\": \"Diamond\"},\n",
    "            {\"Name\": \"Nephrite\",\n",
    "             \"Mohs Hardness\": 6.0,\n",
    "             \"Family\": \"Jade\"},\n",
    "            {\"Name\": \"Jade\",\n",
    "             \"Mohs Hardness\": 6.0, \n",
    "             \"Family\": \"Jade\"},\n",
    "            {\"Name\": \"Topaz\",\n",
    "             \"Mohs Hardness\": 8.0,\n",
    "             \"Family\": \"Topaz\"},\n",
    "            {\"Name\": \"Zircon\",\n",
    "             \"Mohs Hardness\": 7.5,\n",
    "             \"Family\": \"Quartz\"},\n",
    "            {\"Name\": \"Rose Quartz\",\n",
    "             \"Mohs Hardness\": 7.0,\n",
    "             \"Family\": \"Quartz\"},\n",
    "            {\"Name\": \"Spinel\",\n",
    "             \"Mohs Hardness\": 8.0,\n",
    "             \"Family\": \"Spinel\"}]"
   ]
  },
  {
   "cell_type": "code",
   "execution_count": 4,
   "metadata": {},
   "outputs": [
    {
     "data": {
      "text/plain": [
       "[{'Name': 'Amethyst', 'Mohs Hardness': 7.0, 'Family': 'Quartz'},\n",
       " {'Name': 'Zircon', 'Mohs Hardness': 7.5, 'Family': 'Quartz'},\n",
       " {'Name': 'Rose Quartz', 'Mohs Hardness': 7.0, 'Family': 'Quartz'}]"
      ]
     },
     "execution_count": 4,
     "metadata": {},
     "output_type": "execute_result"
    }
   ],
   "source": [
    "list_of_names = [gem for gem in gem_data if gem[\"Family\"] == \"Quartz\"]\n",
    "list_of_names"
   ]
  },
  {
   "cell_type": "code",
   "execution_count": null,
   "metadata": {},
   "outputs": [],
   "source": []
  },
  {
   "cell_type": "code",
   "execution_count": 5,
   "metadata": {},
   "outputs": [
    {
     "data": {
      "text/plain": [
       "['Amethyst', 'Zircon', 'Rose Quartz']"
      ]
     },
     "execution_count": 5,
     "metadata": {},
     "output_type": "execute_result"
    }
   ],
   "source": [
    "list_of_names = [gem[\"Name\"] for gem in gem_data if gem[\"Family\"] == \"Quartz\"]\n",
    "list_of_names"
   ]
  },
  {
   "cell_type": "markdown",
   "metadata": {},
   "source": [
    "#### Which of the following functions take in a dictionary of user posts and extracts a list of hashtags (words or phrases that start with the \"#\" character) that were included in any of the posts. The list of hashtags should be returned at the end of the function. Select all that apply. An example of the dictionary structure (and sample posts from users) is stored in the variable sm_response below."
   ]
  },
  {
   "cell_type": "code",
   "execution_count": 9,
   "metadata": {},
   "outputs": [],
   "source": [
    "sm_response = {\"response\":\n",
    "                  [{\"user_id\": 13453415,\n",
    "                    \"post_id\": \"0AJ294MDLS942\",\n",
    "                    \"contents_\": \"'Bout to go to the spa - self-care day here I come!\",\n",
    "                    \"likes\": {\"count\": 31,\n",
    "                              \"users\": [...]},\n",
    "                    \"replies\": {\"count\": 2,\n",
    "                                  \"users\": [...]}\n",
    "                   },\n",
    "                   {\"user_id\": 7892457914,\n",
    "                    \"post_id\": \"JFI2R9JKJ49284J\",\n",
    "                    \"contents_\": \"Taking my friend to their first hockey game! #LGRW\",\n",
    "                    \"likes\": {\"count\": 52,\n",
    "                              \"users\": [...]},\n",
    "                    \"replies\": {\"count\": 4,\n",
    "                                \"users\": [...]}\n",
    "                   },\n",
    "                   {\"user_id\": 3562141981,\n",
    "                    \"post_id\": \"9201KDAFI23IF\",\n",
    "                    \"contents_\": \"Why can't spring come sooner, I can't wait for sakura matsuri at the botanical gardens (;_;)\",\n",
    "                    \"likes\": {\"count\": 6,\n",
    "                              \"users\": [...]},\n",
    "                    \"replies\": {\"count\": 12,\n",
    "                                \"users\": [...]}\n",
    "                   },\n",
    "                   {\"user_id\": 579245910,\n",
    "                    \"post_id\": \"5FAF56K3OK42K2\",\n",
    "                    \"contents_\": \"Sunrise at the #drakensbergmountains - Link to my portfolio:\",\n",
    "                    \"link\": \"w2.fakeurl.example\",\n",
    "                    \"likes\": {\"count\": 182,\n",
    "                              \"users\": [...]},\n",
    "                    \"replies\": {\"count\": 5,\n",
    "                                \"users\": [...]}\n",
    "                  }]\n",
    "               }\n"
   ]
  },
  {
   "cell_type": "code",
   "execution_count": 17,
   "metadata": {},
   "outputs": [
    {
     "name": "stdout",
     "output_type": "stream",
     "text": [
      "#LGRW\n",
      "#drakensbergmountains\n"
     ]
    },
    {
     "data": {
      "text/plain": [
       "['#LGRW', '#drakensbergmountains']"
      ]
     },
     "execution_count": 17,
     "metadata": {},
     "output_type": "execute_result"
    }
   ],
   "source": [
    "def extract_hashtags(dict):\n",
    "    tags = []\n",
    "    for user in dict[\"response\"]:\n",
    "        content = user[\"contents_\"]\n",
    "        #print(content)\n",
    "        words = content.split()\n",
    "        for word in words:\n",
    "            if \"#\" == word[0]:\n",
    "                print(word)\n",
    "                tags.append(word)\n",
    "    return tags\n",
    "        \n",
    "res = extract_hashtags(sm_response)\n",
    "res"
   ]
  },
  {
   "cell_type": "code",
   "execution_count": 20,
   "metadata": {},
   "outputs": [
    {
     "data": {
      "text/plain": [
       "[['#drakensbergmountains']]"
      ]
     },
     "execution_count": 20,
     "metadata": {},
     "output_type": "execute_result"
    }
   ],
   "source": [
    "def extract_hashtags(dict):\n",
    "    tags = []\n",
    "    for user in dict[\"response\"]:\n",
    "        content = user[\"contents_\"]\n",
    "        #print(content)\n",
    "        words = content.split()\n",
    "        l_tags = [word for word in words if \"#\" == word[0]]\n",
    "    tags.append(l_tags)\n",
    "    return tags\n",
    "\n",
    "res = extract_hashtags(sm_response)\n",
    "res"
   ]
  },
  {
   "cell_type": "code",
   "execution_count": 22,
   "metadata": {},
   "outputs": [
    {
     "data": {
      "text/plain": [
       "['#LGRW', '#drakensbergmountains']"
      ]
     },
     "execution_count": 22,
     "metadata": {},
     "output_type": "execute_result"
    }
   ],
   "source": [
    "def extract_hashtags(dict):\n",
    "    tags = []\n",
    "    for user in dict[\"response\"]:\n",
    "        content = user[\"contents_\"]\n",
    "        #print(content)\n",
    "        words = content.split()\n",
    "        l_tags = [word for word in words if \"#\" == word[0]]\n",
    "        tags = tags + l_tags\n",
    "    return tags\n",
    "\n",
    "res = extract_hashtags(sm_response)\n",
    "res"
   ]
  }
 ],
 "metadata": {
  "kernelspec": {
   "display_name": "Python 3",
   "language": "python",
   "name": "python3"
  },
  "language_info": {
   "codemirror_mode": {
    "name": "ipython",
    "version": 3
   },
   "file_extension": ".py",
   "mimetype": "text/x-python",
   "name": "python",
   "nbconvert_exporter": "python",
   "pygments_lexer": "ipython3",
   "version": "3.7.3"
  }
 },
 "nbformat": 4,
 "nbformat_minor": 2
}
