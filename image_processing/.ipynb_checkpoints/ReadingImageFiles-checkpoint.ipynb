{
 "cells": [
  {
   "cell_type": "code",
   "execution_count": 2,
   "metadata": {},
   "outputs": [
    {
     "name": "stdout",
     "output_type": "stream",
     "text": [
      "True\n",
      "File a-0.png of size 20507.8642578125\n",
      "File a-1.png of size 22068.7783203125\n",
      "File a-2.png of size 3564.5009765625\n",
      "File a-3.png of size 18209.509765625\n"
     ]
    }
   ],
   "source": [
    "import zipfile\n",
    "filename = 'readonly/small_img.zip'\n",
    "print(zipfile.is_zipfile(filename))\n",
    "\n",
    "from PIL import Image\n",
    "\n",
    "zf = zipfile.ZipFile(filename, 'r')\n",
    "\n",
    "zflist = zf.infolist()\n",
    "for zfl in zflist:\n",
    "    print('File {} of size {}'.format(zfl.filename, zfl.file_size/1024))"
   ]
  },
  {
   "cell_type": "markdown",
   "metadata": {},
   "source": [
    "#### I was trying on my local machine and got TesseractNotFoundError: tesseract is not installed or it's not in your PATH when using the pytesseract librariy. "
   ]
  },
  {
   "cell_type": "markdown",
   "metadata": {},
   "source": [
    "#### Add C:\\Program Files\\Tesseract-OCR to your PATH"
   ]
  },
  {
   "cell_type": "code",
   "execution_count": 3,
   "metadata": {},
   "outputs": [
    {
     "name": "stdout",
     "output_type": "stream",
     "text": [
      "File a-0.png of size 20507.8642578125\n",
      "File a-1.png of size 22068.7783203125\n",
      "File a-2.png of size 3564.5009765625\n",
      "File a-3.png of size 18209.509765625\n"
     ]
    }
   ],
   "source": [
    "from zipfile import ZipFile\n",
    "from PIL import Image\n",
    "from IPython.display import display\n",
    "import pytesseract\n",
    "import cv2 as cv\n",
    "import numpy as np\n",
    "\n",
    "detailsDict = {}\n",
    "\n",
    "with ZipFile(filename) as myzip:\n",
    "    zflist = myzip.infolist()\n",
    "    for zfl in zflist:\n",
    "        print('File {} of size {}'.format(zfl.filename, zfl.file_size/1024))\n",
    "        with myzip.open(zfl.filename) as myfile:\n",
    "            #print(myfile.read())\n",
    "            image=Image.open(myfile).convert('RGB')\n",
    "            text = pytesseract.image_to_string(image)\n",
    "            detailsDict[zfl.filename] = {\"img\":image, \"text\":text}\n",
    "            \n",
    "            #cv_image = np.array(image) \n",
    "            #display(image)"
   ]
  }
 ],
 "metadata": {
  "kernelspec": {
   "display_name": "Python 3",
   "language": "python",
   "name": "python3"
  },
  "language_info": {
   "codemirror_mode": {
    "name": "ipython",
    "version": 3
   },
   "file_extension": ".py",
   "mimetype": "text/x-python",
   "name": "python",
   "nbconvert_exporter": "python",
   "pygments_lexer": "ipython3",
   "version": "3.7.3"
  }
 },
 "nbformat": 4,
 "nbformat_minor": 2
}
